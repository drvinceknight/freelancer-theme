{
 "cells": [
  {
   "cell_type": "code",
   "execution_count": null,
   "metadata": {
    "collapsed": true
   },
   "outputs": [],
   "source": [
    "%matplotlib inline\n",
    "import ciw\n",
    "import random\n",
    "import matplotlib.pyplot as plt\n",
    "import seaborn as sns\n",
    "import numpy as np\n",
    "import tqdm"
   ]
  },
  {
   "cell_type": "code",
   "execution_count": null,
   "metadata": {
    "collapsed": true
   },
   "outputs": [],
   "source": [
    "lmbda = 1 / 5.5\n",
    "N = 10 ** 6\n",
    "arrival_times = [random.expovariate(lmbda) for _ in range(N)]"
   ]
  },
  {
   "cell_type": "code",
   "execution_count": null,
   "metadata": {
    "collapsed": false
   },
   "outputs": [],
   "source": [
    "plt.hist(arrival_times, normed=True)\n",
    "plt.title(\"Mean time between arrivals: {:.2f}\".format(np.mean(arrival_times)));"
   ]
  },
  {
   "cell_type": "markdown",
   "metadata": {},
   "source": [
    "There is a formula for the expected wait in a single server queue:\n",
    "\n",
    "$$\n",
    "\\frac{\\lambda / \\mu}{\\mu - \\lambda}\n",
    "$$"
   ]
  },
  {
   "cell_type": "code",
   "execution_count": null,
   "metadata": {
    "collapsed": false
   },
   "outputs": [],
   "source": [
    "def expected_wait(lmbda, mu):\n",
    "    return lmbda / mu / (mu - lmbda)"
   ]
  },
  {
   "cell_type": "code",
   "execution_count": null,
   "metadata": {
    "collapsed": false
   },
   "outputs": [],
   "source": [
    "expected_wait(5.5, 11)"
   ]
  },
  {
   "cell_type": "markdown",
   "metadata": {},
   "source": [
    "Simulating this:"
   ]
  },
  {
   "cell_type": "code",
   "execution_count": null,
   "metadata": {
    "collapsed": true
   },
   "outputs": [],
   "source": [
    "parameters = {'Arrival_distributions': {'Class 0': [['Exponential', 5.5]]},\n",
    "              'Service_distributions': {'Class 0': [['Exponential', 11]]},\n",
    "              'Transition_matrices': {'Class 0': [[0.0]]},\n",
    "              'Number_of_servers': [1]}"
   ]
  },
  {
   "cell_type": "code",
   "execution_count": null,
   "metadata": {
    "collapsed": true
   },
   "outputs": [],
   "source": [
    "def iteration(parameters, maxtime=250, warmup=50):\n",
    "    \"\"\"\n",
    "    Run a single iteration of the simulation and\n",
    "    return the times spent waiting for service\n",
    "    as well as the service times\n",
    "    \"\"\"\n",
    "    N = ciw.create_network(parameters)\n",
    "    Q = ciw.Simulation(N)\n",
    "    Q.simulate_until_max_time(maxtime)\n",
    "    records = [r for r in  Q.get_all_records() if r.arrival_date > warmup]\n",
    "    waits = [r.waiting_time for r in records]\n",
    "    return waits\n",
    "\n",
    "def trials(parameters, repetitions=20, maxtime=400, warmup=50):\n",
    "    \"\"\"Repeat out simulation over a number of trials\"\"\"\n",
    "    waits = []\n",
    "    for seed in tqdm.trange(repetitions):  # tqdm gives us a nice progress bar\n",
    "        ciw.seed(seed)\n",
    "        wait = iteration(parameters, maxtime=maxtime, warmup=warmup)\n",
    "        waits.extend(wait)\n",
    "    return waits"
   ]
  },
  {
   "cell_type": "code",
   "execution_count": null,
   "metadata": {
    "collapsed": false
   },
   "outputs": [],
   "source": [
    "waits = trials(parameters)"
   ]
  },
  {
   "cell_type": "code",
   "execution_count": null,
   "metadata": {
    "collapsed": false
   },
   "outputs": [],
   "source": [
    "np.mean(waits)"
   ]
  }
 ],
 "metadata": {
  "anaconda-cloud": {},
  "kernelspec": {
   "display_name": "Python [default]",
   "language": "python",
   "name": "python3"
  },
  "language_info": {
   "codemirror_mode": {
    "name": "ipython",
    "version": 3
   },
   "file_extension": ".py",
   "mimetype": "text/x-python",
   "name": "python",
   "nbconvert_exporter": "python",
   "pygments_lexer": "ipython3",
   "version": "3.5.2"
  }
 },
 "nbformat": 4,
 "nbformat_minor": 1
}
